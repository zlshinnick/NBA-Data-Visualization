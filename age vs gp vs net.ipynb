{
 "cells": [
  {
   "cell_type": "code",
   "execution_count": 50,
   "id": "45d397f0",
   "metadata": {},
   "outputs": [],
   "source": [
    "import pandas as pd\n",
    "import numpy as np\n",
    "import matplotlib.pyplot as plt\n",
    "import seaborn as sns\n",
    "import math\n",
    "df = pd.read_csv(\"./all_seasons.csv\")"
   ]
  },
  {
   "cell_type": "code",
   "execution_count": 51,
   "id": "cd7842c1",
   "metadata": {},
   "outputs": [],
   "source": [
    "\n",
    "df['meters']=df.player_height/100 \n",
    "df['bmi'] = (df.player_weight)/(df.meters*df.meters)\n",
    "\n",
    "\n"
   ]
  },
  {
   "cell_type": "code",
   "execution_count": 52,
   "id": "0dba22c3",
   "metadata": {},
   "outputs": [],
   "source": [
    "filter_out = df.bmi<  34\n",
    "df = df[filter_out]\n"
   ]
  },
  {
   "cell_type": "code",
   "execution_count": 53,
   "id": "b155a2ae",
   "metadata": {},
   "outputs": [],
   "source": [
    "df['bmi_range'] = round(df.bmi)\n",
    "# Group by draft year\n",
    "df = df.groupby(\"bmi_range\").mean()"
   ]
  },
  {
   "cell_type": "code",
   "execution_count": null,
   "id": "b382fff9",
   "metadata": {},
   "outputs": [],
   "source": []
  },
  {
   "cell_type": "code",
   "execution_count": 54,
   "id": "0e8c4763",
   "metadata": {},
   "outputs": [
    {
     "data": {
      "text/html": [
       "<div>\n",
       "<style scoped>\n",
       "    .dataframe tbody tr th:only-of-type {\n",
       "        vertical-align: middle;\n",
       "    }\n",
       "\n",
       "    .dataframe tbody tr th {\n",
       "        vertical-align: top;\n",
       "    }\n",
       "\n",
       "    .dataframe thead th {\n",
       "        text-align: right;\n",
       "    }\n",
       "</style>\n",
       "<table border=\"1\" class=\"dataframe\">\n",
       "  <thead>\n",
       "    <tr style=\"text-align: right;\">\n",
       "      <th></th>\n",
       "      <th>gp</th>\n",
       "      <th>ts_pct</th>\n",
       "    </tr>\n",
       "    <tr>\n",
       "      <th>bmi_range</th>\n",
       "      <th></th>\n",
       "      <th></th>\n",
       "    </tr>\n",
       "  </thead>\n",
       "  <tbody>\n",
       "    <tr>\n",
       "      <th>20.0</th>\n",
       "      <td>54.645833</td>\n",
       "      <td>0.503667</td>\n",
       "    </tr>\n",
       "    <tr>\n",
       "      <th>21.0</th>\n",
       "      <td>41.768293</td>\n",
       "      <td>0.490091</td>\n",
       "    </tr>\n",
       "    <tr>\n",
       "      <th>22.0</th>\n",
       "      <td>51.038405</td>\n",
       "      <td>0.502786</td>\n",
       "    </tr>\n",
       "    <tr>\n",
       "      <th>23.0</th>\n",
       "      <td>50.161462</td>\n",
       "      <td>0.505765</td>\n",
       "    </tr>\n",
       "    <tr>\n",
       "      <th>24.0</th>\n",
       "      <td>52.107511</td>\n",
       "      <td>0.505956</td>\n",
       "    </tr>\n",
       "    <tr>\n",
       "      <th>25.0</th>\n",
       "      <td>53.264289</td>\n",
       "      <td>0.513139</td>\n",
       "    </tr>\n",
       "    <tr>\n",
       "      <th>26.0</th>\n",
       "      <td>52.548990</td>\n",
       "      <td>0.508615</td>\n",
       "    </tr>\n",
       "    <tr>\n",
       "      <th>27.0</th>\n",
       "      <td>52.676806</td>\n",
       "      <td>0.512652</td>\n",
       "    </tr>\n",
       "    <tr>\n",
       "      <th>28.0</th>\n",
       "      <td>53.508475</td>\n",
       "      <td>0.508363</td>\n",
       "    </tr>\n",
       "    <tr>\n",
       "      <th>29.0</th>\n",
       "      <td>47.140097</td>\n",
       "      <td>0.496488</td>\n",
       "    </tr>\n",
       "    <tr>\n",
       "      <th>30.0</th>\n",
       "      <td>49.810345</td>\n",
       "      <td>0.482845</td>\n",
       "    </tr>\n",
       "    <tr>\n",
       "      <th>31.0</th>\n",
       "      <td>53.718750</td>\n",
       "      <td>0.513875</td>\n",
       "    </tr>\n",
       "    <tr>\n",
       "      <th>32.0</th>\n",
       "      <td>48.200000</td>\n",
       "      <td>0.568400</td>\n",
       "    </tr>\n",
       "    <tr>\n",
       "      <th>33.0</th>\n",
       "      <td>53.250000</td>\n",
       "      <td>0.585500</td>\n",
       "    </tr>\n",
       "    <tr>\n",
       "      <th>34.0</th>\n",
       "      <td>49.500000</td>\n",
       "      <td>0.579000</td>\n",
       "    </tr>\n",
       "  </tbody>\n",
       "</table>\n",
       "</div>"
      ],
      "text/plain": [
       "                  gp    ts_pct\n",
       "bmi_range                     \n",
       "20.0       54.645833  0.503667\n",
       "21.0       41.768293  0.490091\n",
       "22.0       51.038405  0.502786\n",
       "23.0       50.161462  0.505765\n",
       "24.0       52.107511  0.505956\n",
       "25.0       53.264289  0.513139\n",
       "26.0       52.548990  0.508615\n",
       "27.0       52.676806  0.512652\n",
       "28.0       53.508475  0.508363\n",
       "29.0       47.140097  0.496488\n",
       "30.0       49.810345  0.482845\n",
       "31.0       53.718750  0.513875\n",
       "32.0       48.200000  0.568400\n",
       "33.0       53.250000  0.585500\n",
       "34.0       49.500000  0.579000"
      ]
     },
     "execution_count": 54,
     "metadata": {},
     "output_type": "execute_result"
    }
   ],
   "source": [
    "\n",
    "    \n",
    "df= df.groupby(\"bmi_range\").mean()\n",
    "\n",
    "# Selecting only age column\n",
    "df = df[[\"gp\",\"ts_pct\"]]\n",
    "df"
   ]
  },
  {
   "cell_type": "code",
   "execution_count": null,
   "id": "dc7d5fa3",
   "metadata": {},
   "outputs": [],
   "source": []
  },
  {
   "cell_type": "code",
   "execution_count": null,
   "id": "d60c9072",
   "metadata": {},
   "outputs": [],
   "source": [
    "\n"
   ]
  },
  {
   "cell_type": "code",
   "execution_count": 56,
   "id": "6d3391ea",
   "metadata": {
    "scrolled": false
   },
   "outputs": [
    {
     "data": {
      "text/plain": [
       "Text(0.5, 1.0, 'BMI vs Games Played vs Net Rating')"
      ]
     },
     "execution_count": 56,
     "metadata": {},
     "output_type": "execute_result"
    },
    {
     "data": {
      "image/png": "[encoded data removed]",
      "text/plain": [
       "<Figure size 864x864 with 2 Axes>"
      ]
     },
     "metadata": {
      "needs_background": "light"
     },
     "output_type": "display_data"
    }
   ],
   "source": [
    "plt.figure(figsize=(12,12))\n",
    "plt.scatter(df.index,df.gp,s=200,c=df.ts_pct,cmap=plt.cm.get_cmap(\"plasma\",10))\n",
    "plt.colorbar(label=\"True Shooting Percentage\")\n",
    "\n",
    "font1 = {'family':'arial','color':'black','size':20}\n",
    "font2 = {'family':'arial','color':'black','size':12}\n",
    "\n",
    "plt.xlabel(\"BMI of Player\", fontdict = font2)\n",
    "plt.ylabel(\"Average Games Played\", fontdict = font2)\n",
    "plt.title(\"BMI vs Games Played vs Net Rating\",fontdict = font1)\n"
   ]
  },
  {
   "cell_type": "code",
   "execution_count": null,
   "id": "b351cf9d",
   "metadata": {},
   "outputs": [],
   "source": []
  },
  {
   "cell_type": "code",
   "execution_count": null,
   "id": "e972f251",
   "metadata": {},
   "outputs": [],
   "source": []
  }
 ],
 "metadata": {
  "kernelspec": {
   "display_name": "Python 3 (ipykernel)",
   "language": "python",
   "name": "python3"
  },
  "language_info": {
   "codemirror_mode": {
    "name": "ipython",
    "version": 3
   },
   "file_extension": ".py",
   "mimetype": "text/x-python",
   "name": "python",
   "nbconvert_exporter": "python",
   "pygments_lexer": "ipython3",
   "version": "3.9.12"
  }
 },
 "nbformat": 4,
 "nbformat_minor": 5
}
